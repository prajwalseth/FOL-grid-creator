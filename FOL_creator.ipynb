{
  "nbformat": 4,
  "nbformat_minor": 0,
  "metadata": {
    "colab": {
      "provenance": [],
      "collapsed_sections": [
        "_HNV2rFWjB7T",
        "s-OjM2dCjK6Y"
      ]
    },
    "kernelspec": {
      "name": "python3",
      "display_name": "Python 3"
    },
    "language_info": {
      "name": "python"
    }
  },
  "cells": [
    {
      "cell_type": "code",
      "source": [],
      "metadata": {
        "id": "XKLxIj5T694T"
      },
      "execution_count": null,
      "outputs": []
    },
    {
      "cell_type": "markdown",
      "source": [
        "#### Set the input parameters"
      ],
      "metadata": {
        "id": "_HNV2rFWjB7T"
      }
    },
    {
      "cell_type": "code",
      "source": [
        "center_lat =       -4.171376 # latitude of center point, in decimal degrees\n",
        "center_lon =  27.735308 # longitude of center point, in decimal degrees\n",
        "radius = 10 # radius of flower of life, in kilometres\n",
        "divisions = 6 # creates flower of life by dividing the 360 degree circle into 6 equal parts\n",
        "rotation = 0 # optional: add a tilt to the grid. I do not recommend tilting your grids\n",
        "round_to_decimal_place = 2 # i do not recommend changing this. it is used to filter out duplicate coordinates (small values means less filtering)\n",
        "max_points = 100 # the number of points you want the grid to be. ideally keep this below 500"
      ],
      "metadata": {
        "id": "Z4XQ7gFBjDXS"
      },
      "execution_count": 4,
      "outputs": []
    },
    {
      "cell_type": "markdown",
      "source": [
        "#### Logic for calculating distances between points and creating pattern"
      ],
      "metadata": {
        "id": "Zfb1i2_ni-YM"
      }
    },
    {
      "cell_type": "code",
      "execution_count": 6,
      "metadata": {
        "id": "9XPwYbjjQqkj"
      },
      "outputs": [],
      "source": [
        "from math import asin, atan2, cos, degrees, radians, sin\n",
        "import numpy as np\n",
        "import pandas as pd\n",
        "from google.colab import files\n",
        "\n",
        "\n",
        "def get_point_at_distance(lat1, lon1, d, bearing, R=6371):\n",
        "    \"\"\"\n",
        "    lat: initial latitude, in degrees\n",
        "    lon: initial longitude, in degrees\n",
        "    d: target distance from initial\n",
        "    bearing: (true) heading in degrees\n",
        "    R: optional radius of sphere, defaults to mean radius of earth\n",
        "\n",
        "    Returns new lat/lon coordinate {d}km from initial, in degrees\n",
        "    \"\"\"\n",
        "    lat1 = radians(lat1)\n",
        "    lon1 = radians(lon1)\n",
        "    a = radians(bearing)\n",
        "    lat2 = asin(sin(lat1) * cos(d/R) + cos(lat1) * sin(d/R) * cos(a))\n",
        "    lon2 = lon1 + atan2(\n",
        "        sin(a) * sin(d/R) * cos(lat1),\n",
        "        cos(d/R) - sin(lat1) * sin(lat2)\n",
        "    )\n",
        "    return (degrees(lat2), degrees(lon2),)\n",
        "\n"
      ]
    },
    {
      "cell_type": "code",
      "source": [
        "\n",
        "results_df = pd.DataFrame({'lat':[center_lat],\n",
        "                              'lon':[center_lon]})\n",
        "\n",
        "seen = []\n",
        "\n",
        "seen.append([round(center_lat, round_to_decimal_place), round(center_lon,round_to_decimal_place)])\n",
        "\n",
        "seen_center = []\n",
        "\n",
        "\n",
        "for i in range(0,100):\n",
        "\n",
        "  if len(results_df) >= max_points:\n",
        "    break\n",
        "\n",
        "  else:\n",
        "\n",
        "\n",
        "    #display('results_df at start', results_df)\n",
        "\n",
        "    #print('length of results', len(results_df))\n",
        "\n",
        "    for row, k in results_df[i:].iterrows():\n",
        "      #print(k)\n",
        "\n",
        "      tmp_center_lat = float(k['lat'])\n",
        "      tmp_center_lon = float(k['lon'])\n",
        "\n",
        "      # tmp_check_seen_center = [round(tmp_result_lat, round_to_decimal_place), round(tmp_result_lon,round_to_decimal_place)]\n",
        "      # #print(tmp_check_seen_center)\n",
        "      # if tmp_check_seen_center in seen_center:\n",
        "      #     #print('seen center coordinate')\n",
        "      #     break\n",
        "      # else:\n",
        "      #   seen_center.append(tmp_check_seen)\n",
        "\n",
        "\n",
        "\n",
        "      for j in range(0, 360, int(360/divisions)):\n",
        "        bearing = j + rotation\n",
        "        tmp_result_lat, tmp_result_lon = get_point_at_distance(tmp_center_lat, tmp_center_lon, radius, bearing)\n",
        "        #print('tmp center', tmp_center_lat, ',', tmp_center_lon)\n",
        "        #print('distance',radius)\n",
        "        #print('bearing','bearing')\n",
        "\n",
        "        # tmp_coord = [tmp_result_lat, tmp_result_lon]\n",
        "\n",
        "        df_tmp_coord = pd.DataFrame({'lat':[tmp_result_lat],\n",
        "                              'lon':[tmp_result_lon]})\n",
        "\n",
        "        tmp_check_seen = [round(tmp_result_lat, round_to_decimal_place), round(tmp_result_lon,round_to_decimal_place)]\n",
        "\n",
        "\n",
        "        #display('results_df after dedupe', results_df)\n",
        "\n",
        "        if len(results_df) <= max_points:\n",
        "\n",
        "          #print('number', len(results_df))\n",
        "          #display('df_tmp_coord', df_tmp_coord)\n",
        "          if tmp_check_seen in seen:\n",
        "          #print('seen coordinate')\n",
        "            continue\n",
        "          else:\n",
        "            seen.append(tmp_check_seen)\n",
        "\n",
        "            results_df = pd.concat([results_df, df_tmp_coord])\n",
        "            #display('results_df after tmp',results_df)\n",
        "\n",
        "            results_df.loc[results_df.round(round_to_decimal_place).drop_duplicates().index]\n",
        "\n",
        "\n",
        "\n",
        "\n",
        "\n",
        "          # continue\n",
        "\n",
        "          # df_tmp_coord = pd.DataFrame(tmp_coord)\n",
        "          # df_tmp_coord.columns = ['lat','lon']\n",
        "          # results_df = pd.concat(results_df, df_tmp_coord)\n",
        "\n",
        "          #print(tmp_coord)\n",
        "\n",
        "        else:\n",
        "          break\n",
        "\n",
        "# print(len(results_df))"
      ],
      "metadata": {
        "id": "Lf9AngQ1SFIa"
      },
      "execution_count": 9,
      "outputs": []
    },
    {
      "cell_type": "code",
      "source": [
        "# print('latitude'+','+'longitude')\n",
        "# print(str(r['lat'])+','+str(r['lon']))"
      ],
      "metadata": {
        "id": "4sHOx9QYonmp"
      },
      "execution_count": 8,
      "outputs": []
    },
    {
      "cell_type": "markdown",
      "source": [
        "#### Creation of Output file. Import it into Google Earth by doing File -> Import and clicking on output.txt"
      ],
      "metadata": {
        "id": "s-OjM2dCjK6Y"
      }
    },
    {
      "cell_type": "code",
      "source": [
        " # pastes the resulting coordinates into a text file to import into Google Earth\n",
        "output_text = ''\n",
        "output_text += 'latitude'+','+'longitude'\n",
        "output_text += '\\n'\n",
        "for i,r in results_df.iterrows():\n",
        "  tmp_pt = str(r['lat'])+','+str(r['lon'])+'\\n'\n",
        "  output_text += tmp_pt\n",
        "\n",
        "f = open(\"output.txt\", \"w\")\n",
        "f.write(output_text)\n",
        "files.download('output.txt')\n",
        "f.close()\n"
      ],
      "metadata": {
        "colab": {
          "base_uri": "https://localhost:8080/",
          "height": 17
        },
        "id": "aQ99UJSwROAG",
        "outputId": "6794ca4c-b544-4855-e775-753b8a20df95"
      },
      "execution_count": 10,
      "outputs": [
        {
          "output_type": "display_data",
          "data": {
            "text/plain": [
              "<IPython.core.display.Javascript object>"
            ],
            "application/javascript": [
              "\n",
              "    async function download(id, filename, size) {\n",
              "      if (!google.colab.kernel.accessAllowed) {\n",
              "        return;\n",
              "      }\n",
              "      const div = document.createElement('div');\n",
              "      const label = document.createElement('label');\n",
              "      label.textContent = `Downloading \"${filename}\": `;\n",
              "      div.appendChild(label);\n",
              "      const progress = document.createElement('progress');\n",
              "      progress.max = size;\n",
              "      div.appendChild(progress);\n",
              "      document.body.appendChild(div);\n",
              "\n",
              "      const buffers = [];\n",
              "      let downloaded = 0;\n",
              "\n",
              "      const channel = await google.colab.kernel.comms.open(id);\n",
              "      // Send a message to notify the kernel that we're ready.\n",
              "      channel.send({})\n",
              "\n",
              "      for await (const message of channel.messages) {\n",
              "        // Send a message to notify the kernel that we're ready.\n",
              "        channel.send({})\n",
              "        if (message.buffers) {\n",
              "          for (const buffer of message.buffers) {\n",
              "            buffers.push(buffer);\n",
              "            downloaded += buffer.byteLength;\n",
              "            progress.value = downloaded;\n",
              "          }\n",
              "        }\n",
              "      }\n",
              "      const blob = new Blob(buffers, {type: 'application/binary'});\n",
              "      const a = document.createElement('a');\n",
              "      a.href = window.URL.createObjectURL(blob);\n",
              "      a.download = filename;\n",
              "      div.appendChild(a);\n",
              "      a.click();\n",
              "      div.remove();\n",
              "    }\n",
              "  "
            ]
          },
          "metadata": {}
        },
        {
          "output_type": "display_data",
          "data": {
            "text/plain": [
              "<IPython.core.display.Javascript object>"
            ],
            "application/javascript": [
              "download(\"download_2d6a7794-b9df-4e46-956f-627e69ece9f0\", \"output.txt\", 0)"
            ]
          },
          "metadata": {}
        }
      ]
    }
  ]
}