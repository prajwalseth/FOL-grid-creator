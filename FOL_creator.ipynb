{
  "nbformat": 4,
  "nbformat_minor": 0,
  "metadata": {
    "colab": {
      "provenance": [],
      "collapsed_sections": [
        "s-OjM2dCjK6Y"
      ]
    },
    "kernelspec": {
      "name": "python3",
      "display_name": "Python 3"
    },
    "language_info": {
      "name": "python"
    }
  },
  "cells": [
    {
      "cell_type": "markdown",
      "source": [
        "#### Set the input parameters"
      ],
      "metadata": {
        "id": "_HNV2rFWjB7T"
      }
    },
    {
      "cell_type": "code",
      "source": [
        "center_lat =  42.692688 # latitude of center point, in decimal degrees\n",
        "center_lon =  -72.513084 # longitude of center point, in decimal degrees\n",
        "radius = 100 # radius of flower of life, in kilometres\n",
        "divisions = 6 # creates flower of life by dividing the 360 degree circle into 6 equal parts\n",
        "rotation = 0 # optional: add a tilt to the grid. I do not recommend tilting your grids\n",
        "max_points = 10000 # the number of points you want the grid to be. ideally keep this below 500"
      ],
      "metadata": {
        "id": "Z4XQ7gFBjDXS"
      },
      "execution_count": 389,
      "outputs": []
    },
    {
      "cell_type": "markdown",
      "source": [
        "#### Logic for calculating distances between points and creating pattern"
      ],
      "metadata": {
        "id": "Zfb1i2_ni-YM"
      }
    },
    {
      "cell_type": "code",
      "execution_count": 390,
      "metadata": {
        "id": "9XPwYbjjQqkj"
      },
      "outputs": [],
      "source": [
        "from math import asin, atan2, cos, degrees, radians, sin\n",
        "import numpy as np\n",
        "import pandas as pd\n",
        "from google.colab import files\n",
        "import math\n",
        "\n",
        "# R = 6371\n",
        "\n",
        "def get_point_at_distance(lat1, lon1, d, bearing, R=6371.0088):\n",
        "    \"\"\"\n",
        "    lat: initial latitude, in degrees\n",
        "    lon: initial longitude, in degrees\n",
        "    d: target distance from initial\n",
        "    bearing: (true) heading in degrees\n",
        "    R: optional radius of sphere, defaults to mean radius of earth\n",
        "\n",
        "    Returns new lat/lon coordinate {d}km from initial, in degrees\n",
        "    \"\"\"\n",
        "    lat1 = radians(lat1)\n",
        "    lon1 = radians(lon1)\n",
        "    a = radians(bearing)\n",
        "    lat2 = asin(sin(lat1) * cos(d/R) + cos(lat1) * sin(d/R) * cos(a))\n",
        "    lon2 = lon1 + atan2(\n",
        "        sin(a) * sin(d/R) * cos(lat1),\n",
        "        cos(d/R) - sin(lat1) * sin(lat2)\n",
        "    )\n",
        "    return (degrees(lat2), degrees(lon2),)\n",
        "\n"
      ]
    },
    {
      "cell_type": "code",
      "source": [
        "# up with iteration_number\n",
        "# bottom left for iteration_number\n",
        "# bottom for iteration_number\n",
        "# bottom right for iteration_number\n",
        "# top right for iteration_number\n",
        "# top for iteration_number\n",
        "# top left for iteration_number\n",
        "# then use start_point as value from cut[iteration_number] if i in cut\n",
        "\n",
        "cuts = []\n",
        "\n",
        "tmp_cut = 1\n",
        "\n",
        "for i in range(1, 2^1000000):\n",
        "  tmp_cut += divisions*i\n",
        "  cuts.append(tmp_cut)\n",
        "  if tmp_cut > max_points:\n",
        "    break\n",
        "\n",
        "results_df = pd.DataFrame({'lat':[center_lat],\n",
        "                              'lon':[center_lon]})\n",
        "\n",
        "max_iteration_number = len(cuts)\n",
        "\n",
        "for iteration_number in range(1, max_iteration_number+1):\n",
        "\n",
        "\n",
        "  if iteration_number >= 3:\n",
        "    start_point = results_df.loc[cuts[iteration_number-3]]\n",
        "\n",
        "  elif iteration_number == 2:\n",
        "    start_point = results_df.loc[1]\n",
        "\n",
        "  else:\n",
        "    start_point = results_df.loc[0]\n",
        "\n",
        "  # print(iteration_number, 'start_point', start_point)\n",
        "\n",
        "  bearing = [0]\n",
        "\n",
        "  for j in range(0, iteration_number):\n",
        "    bearing.append(240)\n",
        "\n",
        "  for j in range(0, iteration_number):\n",
        "    bearing.append(180)\n",
        "\n",
        "  for j in range(0, iteration_number):\n",
        "    bearing.append(120)\n",
        "\n",
        "  for j in range(0, iteration_number):\n",
        "    bearing.append(60)\n",
        "\n",
        "  for j in range(0, iteration_number):\n",
        "    bearing.append(0)\n",
        "\n",
        "  for j in range(0, iteration_number-1):\n",
        "    bearing.append(300)\n",
        "\n",
        "  # print(bearing)\n",
        "\n",
        "  for k in bearing:\n",
        "    tmp_result_lat, tmp_result_lon = get_point_at_distance(start_point['lat'], start_point['lon'], radius, k)\n",
        "    df_tmp_coord = pd.DataFrame({'lat':[tmp_result_lat], 'lon':[tmp_result_lon]})\n",
        "\n",
        "    if len(results_df) < max_points:\n",
        "\n",
        "      results_df = pd.concat([results_df, df_tmp_coord])\n",
        "      results_df = results_df.reset_index(drop=True)\n",
        "      start_point = results_df.tail(1)\n",
        "\n",
        "    else:\n",
        "      break\n",
        "\n",
        "\n",
        "  # print(results_df)\n"
      ],
      "metadata": {
        "colab": {
          "base_uri": "https://localhost:8080/"
        },
        "id": "VUyPPJU3HHUX",
        "outputId": "928ced8d-aaee-4d1c-a87c-5f4d978df79e"
      },
      "execution_count": 391,
      "outputs": [
        {
          "output_type": "stream",
          "name": "stderr",
          "text": [
            "<ipython-input-390-f62bb0a08cc0>:19: FutureWarning: Calling float on a single element Series is deprecated and will raise a TypeError in the future. Use float(ser.iloc[0]) instead\n",
            "  lat1 = radians(lat1)\n",
            "<ipython-input-390-f62bb0a08cc0>:20: FutureWarning: Calling float on a single element Series is deprecated and will raise a TypeError in the future. Use float(ser.iloc[0]) instead\n",
            "  lon1 = radians(lon1)\n"
          ]
        }
      ]
    },
    {
      "cell_type": "markdown",
      "source": [
        "#### Creation of Output file. Import it into Google Earth by doing File -> Import and clicking on output.txt"
      ],
      "metadata": {
        "id": "s-OjM2dCjK6Y"
      }
    },
    {
      "cell_type": "code",
      "source": [
        " # pastes the resulting coordinates into a text file to import into Google Earth\n",
        "output_text = ''\n",
        "output_text += 'latitude'+','+'longitude'\n",
        "output_text += '\\n'\n",
        "for i,r in results_df.iterrows():\n",
        "  tmp_pt = str(r['lat'])+','+str(r['lon'])+'\\n'\n",
        "  output_text += tmp_pt\n",
        "\n",
        "f = open(\"output.txt\", \"w\")\n",
        "f.write(output_text)\n",
        "files.download('output.txt')\n",
        "f.close()\n"
      ],
      "metadata": {
        "colab": {
          "base_uri": "https://localhost:8080/",
          "height": 0
        },
        "id": "aQ99UJSwROAG",
        "outputId": "79371a9b-b925-47e7-cb4e-c18d5b7d0e71"
      },
      "execution_count": 392,
      "outputs": [
        {
          "output_type": "display_data",
          "data": {
            "text/plain": [
              "<IPython.core.display.Javascript object>"
            ],
            "application/javascript": [
              "\n",
              "    async function download(id, filename, size) {\n",
              "      if (!google.colab.kernel.accessAllowed) {\n",
              "        return;\n",
              "      }\n",
              "      const div = document.createElement('div');\n",
              "      const label = document.createElement('label');\n",
              "      label.textContent = `Downloading \"${filename}\": `;\n",
              "      div.appendChild(label);\n",
              "      const progress = document.createElement('progress');\n",
              "      progress.max = size;\n",
              "      div.appendChild(progress);\n",
              "      document.body.appendChild(div);\n",
              "\n",
              "      const buffers = [];\n",
              "      let downloaded = 0;\n",
              "\n",
              "      const channel = await google.colab.kernel.comms.open(id);\n",
              "      // Send a message to notify the kernel that we're ready.\n",
              "      channel.send({})\n",
              "\n",
              "      for await (const message of channel.messages) {\n",
              "        // Send a message to notify the kernel that we're ready.\n",
              "        channel.send({})\n",
              "        if (message.buffers) {\n",
              "          for (const buffer of message.buffers) {\n",
              "            buffers.push(buffer);\n",
              "            downloaded += buffer.byteLength;\n",
              "            progress.value = downloaded;\n",
              "          }\n",
              "        }\n",
              "      }\n",
              "      const blob = new Blob(buffers, {type: 'application/binary'});\n",
              "      const a = document.createElement('a');\n",
              "      a.href = window.URL.createObjectURL(blob);\n",
              "      a.download = filename;\n",
              "      div.appendChild(a);\n",
              "      a.click();\n",
              "      div.remove();\n",
              "    }\n",
              "  "
            ]
          },
          "metadata": {}
        },
        {
          "output_type": "display_data",
          "data": {
            "text/plain": [
              "<IPython.core.display.Javascript object>"
            ],
            "application/javascript": [
              "download(\"download_862e08b7-f0fe-4738-b32f-fed225c1ccba\", \"output.txt\", 92484)"
            ]
          },
          "metadata": {}
        }
      ]
    }
  ]
}